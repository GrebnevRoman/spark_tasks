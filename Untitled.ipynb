{
 "cells": [
  {
   "cell_type": "code",
   "execution_count": 1,
   "id": "174b7e80",
   "metadata": {},
   "outputs": [
    {
     "name": "stdout",
     "output_type": "stream",
     "text": [
      "\u001b[33mWARNING: Running pip as the 'root' user can result in broken permissions and conflicting behaviour with the system package manager. It is recommended to use a virtual environment instead: https://pip.pypa.io/warnings/venv\u001b[0m\u001b[33m\n",
      "\u001b[0m"
     ]
    }
   ],
   "source": [
    "!pip install -q findspark"
   ]
  },
  {
   "cell_type": "code",
   "execution_count": 2,
   "id": "abb043ec",
   "metadata": {},
   "outputs": [],
   "source": [
    "import findspark\n",
    "findspark.init()"
   ]
  },
  {
   "cell_type": "code",
   "execution_count": 3,
   "id": "01ed7536",
   "metadata": {},
   "outputs": [],
   "source": [
    "from pyspark.sql import SparkSession\n",
    "import pyspark.sql.functions as F "
   ]
  },
  {
   "cell_type": "code",
   "execution_count": 5,
   "id": "247c0f84",
   "metadata": {},
   "outputs": [
    {
     "name": "stderr",
     "output_type": "stream",
     "text": [
      "24/01/14 14:09:21 WARN NativeCodeLoader: Unable to load native-hadoop library for your platform... using builtin-java classes where applicable\n",
      "Using Spark's default log4j profile: org/apache/spark/log4j-defaults.properties\n",
      "Setting default log level to \"WARN\".\n",
      "To adjust logging level use sc.setLogLevel(newLevel). For SparkR, use setLogLevel(newLevel).\n"
     ]
    },
    {
     "name": "stdout",
     "output_type": "stream",
     "text": [
      "#\n",
      "# A fatal error has been detected by the Java Runtime Environment:\n",
      "#\n",
      "#  Internal Error (safepoint.cpp:388), pid=25455, tid=0x000000406643d700\n",
      "#  guarantee(PageArmed == 0) failed: invariant\n",
      "#\n",
      "# JRE version: OpenJDK Runtime Environment (8.0_342-b07) (build 1.8.0_342-b07)\n",
      "# Java VM: OpenJDK 64-Bit Server VM (25.342-b07 mixed mode linux-amd64 compressed oops)\n",
      "# Failed to write core dump. Core dumps have been disabled. To enable core dumping, try \"ulimit -c unlimited\" before starting Java again\n",
      "#\n",
      "# An error report file with more information is saved as:\n",
      "# /opt/workspace/hs_err_pid25455.log\n",
      "#\n",
      "# If you would like to submit a bug report, please visit:\n",
      "#   http://bugreport.java.com/bugreport/crash.jsp\n",
      "#\n"
     ]
    },
    {
     "name": "stderr",
     "output_type": "stream",
     "text": [
      "qemu: uncaught target signal 6 (Aborted) - core dumped\n",
      "/usr/local/lib/python3.9/dist-packages/pyspark/bin/spark-class: line 70: 25455 Aborted                 \"$RUNNER\" -Xmx128m $SPARK_LAUNCHER_OPTS -cp \"$LAUNCH_CLASSPATH\" org.apache.spark.launcher.Main \"$@\"\n",
      "/usr/local/lib/python3.9/dist-packages/pyspark/bin/spark-class: line 96: CMD: bad array subscript\n"
     ]
    }
   ],
   "source": [
    "spark = SparkSession.builder\\\n",
    ".master(\"local\")\\\n",
    ".appName(\"Pyspark_example\")\\\n",
    ".config('spark.ui.port', '4050')\\\n",
    ".getOrCreate()"
   ]
  },
  {
   "cell_type": "code",
   "execution_count": 18,
   "id": "be511631",
   "metadata": {},
   "outputs": [
    {
     "name": "stderr",
     "output_type": "stream",
     "text": [
      "                                                                                \r"
     ]
    }
   ],
   "source": [
    "wine_df_1 = spark.read.options(delimiter=\",\", header=True).csv('winemag-data_first150k.csv')\n",
    "wine_df_2 = spark.read.options(delimiter=\",\", header=True).csv('winemag-data-130k-v2.csv')"
   ]
  },
  {
   "cell_type": "code",
   "execution_count": 19,
   "id": "497aef77",
   "metadata": {},
   "outputs": [
    {
     "data": {
      "text/plain": [
       "DataFrame[_c0: string, country: string, description: string, designation: string, points: string, price: string, province: string, region_1: string, region_2: string, taster_name: string, taster_twitter_handle: string, title: string, variety: string, winery: string]"
      ]
     },
     "execution_count": 19,
     "metadata": {},
     "output_type": "execute_result"
    }
   ],
   "source": [
    "wine_df_2"
   ]
  },
  {
   "cell_type": "code",
   "execution_count": 10,
   "id": "063c43a3",
   "metadata": {},
   "outputs": [
    {
     "data": {
      "text/plain": [
       "DataFrame[_c0: string, country: string, description: string, designation: string, points: string, price: string, province: string, region_1: string, region_2: string, variety: string, winery: string, index: string]"
      ]
     },
     "execution_count": 10,
     "metadata": {},
     "output_type": "execute_result"
    }
   ],
   "source": [
    "wine_df_1.select(F.where(F.col('description')))F.col('description'))"
   ]
  },
  {
   "cell_type": "code",
   "execution_count": 17,
   "id": "ee3a6bcf",
   "metadata": {},
   "outputs": [
    {
     "name": "stderr",
     "output_type": "stream",
     "text": [
      "[Stage 10:====================================================>  (95 + 1) / 100]\r"
     ]
    },
    {
     "name": "stdout",
     "output_type": "stream",
     "text": [
      "+--------------------+\n",
      "|             country|\n",
      "+--------------------+\n",
      "|              Turkey|\n",
      "|             Germany|\n",
      "| marked by tart c...|\n",
      "|              France|\n",
      "|              Greece|\n",
      "|                null|\n",
      "|            Slovakia|\n",
      "|           Argentina|\n",
      "|             Albania|\n",
      "|               India|\n",
      "|               China|\n",
      "|               Chile|\n",
      "| and the note of ...|\n",
      "| fine and extreme...|\n",
      "|             Croatia|\n",
      "|               Italy|\n",
      "|           Lithuania|\n",
      "|               Spain|\n",
      "|                  US|\n",
      "|             Morocco|\n",
      "+--------------------+\n",
      "only showing top 20 rows\n",
      "\n"
     ]
    },
    {
     "name": "stderr",
     "output_type": "stream",
     "text": [
      "                                                                                \r"
     ]
    }
   ],
   "source": [
    "wine_df_1.select(F.col('country')).distinct().show()"
   ]
  },
  {
   "cell_type": "code",
   "execution_count": 13,
   "id": "646334f0",
   "metadata": {},
   "outputs": [
    {
     "data": {
      "text/plain": [
       "DataFrame[_c0: string, country: string, description: string, designation: string, points: string, price: string, province: string, region_1: string, region_2: string, variety: string, winery: string, index: string]"
      ]
     },
     "metadata": {},
     "output_type": "display_data"
    },
    {
     "name": "stdout",
     "output_type": "stream",
     "text": [
      "#\n",
      "# A fatal error has been detected by the Java Runtime Environment:\n",
      "#\n",
      "#  Internal Error (safepoint.cpp:388), pid=61, tid=0x00000040684f9700\n",
      "#  guarantee(PageArmed == 0) failed: invariant\n",
      "#\n",
      "# JRE version: OpenJDK Runtime Environment (8.0_342-b07) (build 1.8.0_342-b07)\n",
      "# Java VM: OpenJDK 64-Bit Server VM (25.342-b07 mixed mode linux-amd64 compressed oops)\n",
      "# Failed to write core dump. Core dumps have been disabled. To enable core dumping, try \"ulimit -c unlimited\" before starting Java again\n",
      "#\n",
      "# An error report file with more information is saved as:\n",
      "# /opt/workspace/hs_err_pid61.log\n",
      "#\n",
      "# If you would like to submit a bug report, please visit:\n",
      "#   http://bugreport.java.com/bugreport/crash.jsp\n",
      "#\n"
     ]
    },
    {
     "name": "stderr",
     "output_type": "stream",
     "text": [
      "qemu: uncaught target signal 6 (Aborted) - core dumped\n",
      "24/01/12 16:39:32 WARN HeartbeatReceiver: Removing executor driver with no recent heartbeats: 756297 ms exceeds timeout 120000 ms\n",
      "24/01/12 16:39:32 WARN SparkContext: Killing executors is not supported by current scheduler.\n"
     ]
    }
   ],
   "source": [
    "display(wine_df_1)"
   ]
  },
  {
   "cell_type": "code",
   "execution_count": 14,
   "id": "4be0ce13",
   "metadata": {},
   "outputs": [
    {
     "name": "stdout",
     "output_type": "stream",
     "text": [
      "+---+-------+--------------------+--------------------+------+-----+--------------+--------------+--------+------------------+--------------------+\n",
      "|_c0|country|         description|         designation|points|price|      province|      region_1|region_2|           variety|              winery|\n",
      "+---+-------+--------------------+--------------------+------+-----+--------------+--------------+--------+------------------+--------------------+\n",
      "|  0|     US|This tremendous 1...|   Martha's Vineyard|    96|235.0|    California|   Napa Valley|    Napa|Cabernet Sauvignon|               Heitz|\n",
      "|  1|  Spain|Ripe aromas of fi...|Carodorum Selecci...|    96|110.0|Northern Spain|          Toro|    null|     Tinta de Toro|Bodega Carmen Rod...|\n",
      "|  2|     US|Mac Watson honors...|Special Selected ...|    96| 90.0|    California|Knights Valley|  Sonoma|   Sauvignon Blanc|            Macauley|\n",
      "+---+-------+--------------------+--------------------+------+-----+--------------+--------------+--------+------------------+--------------------+\n",
      "only showing top 3 rows\n",
      "\n"
     ]
    },
    {
     "name": "stderr",
     "output_type": "stream",
     "text": [
      "24/01/11 17:28:27 WARN CSVHeaderChecker: CSV header does not conform to the schema.\n",
      " Header: , country, description, designation, points, price, province, region_1, region_2, variety, winery\n",
      " Schema: _c0, country, description, designation, points, price, province, region_1, region_2, variety, winery\n",
      "Expected: _c0 but found: \n",
      "CSV file: file:///opt/workspace/winemag-data_first150k.csv\n"
     ]
    }
   ],
   "source": [
    "wine_df_1.show(n=3)"
   ]
  },
  {
   "cell_type": "code",
   "execution_count": 15,
   "id": "9c7c25d6",
   "metadata": {},
   "outputs": [
    {
     "data": {
      "text/plain": [
       "DataFrame[_c0: string, country: string, description: string, designation: string, points: string, price: string, province: string, region_1: string, region_2: string, variety: string, winery: string]"
      ]
     },
     "execution_count": 15,
     "metadata": {},
     "output_type": "execute_result"
    }
   ],
   "source": [
    "wine_df_1"
   ]
  },
  {
   "cell_type": "code",
   "execution_count": null,
   "id": "4c1cd1a2",
   "metadata": {},
   "outputs": [],
   "source": []
  }
 ],
 "metadata": {
  "kernelspec": {
   "display_name": "Python 3 (ipykernel)",
   "language": "python",
   "name": "python3"
  },
  "language_info": {
   "codemirror_mode": {
    "name": "ipython",
    "version": 3
   },
   "file_extension": ".py",
   "mimetype": "text/x-python",
   "name": "python",
   "nbconvert_exporter": "python",
   "pygments_lexer": "ipython3",
   "version": "3.9.2"
  }
 },
 "nbformat": 4,
 "nbformat_minor": 5
}
